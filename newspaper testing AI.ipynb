{
 "cells": [
  {
   "cell_type": "code",
   "execution_count": 1,
   "metadata": {},
   "outputs": [],
   "source": [
    "import cv2\n",
    "import numpy as np\n",
    "import glob\n",
    "import random\n",
    "import os\n",
    "import shutil"
   ]
  },
  {
   "cell_type": "code",
   "execution_count": 2,
   "metadata": {},
   "outputs": [],
   "source": [
    "net = cv2.dnn.readNet(\"newspaper_3000.weights\", \"yolov3_testing.cfg\")\n",
    "classes = [\"ROI\"]"
   ]
  },
  {
   "cell_type": "code",
   "execution_count": 19,
   "metadata": {},
   "outputs": [
    {
     "name": "stdout",
     "output_type": "stream",
     "text": [
      "OCR Samples/page_0001 (35).jpg\n",
      "---------------------Region points--------------------\n",
      "{1: [124, 545, 333, 726], 4: [2166, 571, 404, 493], 5: [1741, 561, 420, 1070], 11: [2583, 573, 408, 1122], 12: [481, 557, 436, 1644], 13: [917, 558, 415, 1458], 14: [1335, 559, 403, 1608], 16: [73, 1307, 432, 1072], 17: [2574, 1696, 416, 493], 19: [1350, 2109, 380, 423], 20: [1760, 1569, 384, 1392], 24: [908, 1982, 428, 1043], 25: [2161, 1027, 409, 2794], 26: [501, 2209, 414, 906], 28: [2561, 2208, 441, 810], 29: [63, 2399, 422, 1510], 32: [1331, 2574, 420, 1333], 34: [1750, 2918, 401, 611], 38: [912, 3008, 414, 951], 40: [2569, 3021, 431, 806], 41: [497, 3115, 425, 812], 43: [1748, 3541, 388, 401]}\n"
     ]
    }
   ],
   "source": [
    "layer_names = net.getLayerNames()\n",
    "output_layers = [layer_names[i[0] - 1] for i in net.getUnconnectedOutLayers()]\n",
    "colors = np.random.uniform(0, 255, size=(len(classes), 3))\n",
    "\n",
    "folder=\"OCR Samples/\"\n",
    "img_path=random.choice(os.listdir(folder))\n",
    "\n",
    "img_path=folder+img_path\n",
    "print(img_path)\n",
    "\n",
    "# final_image_name=img_path.split(\"\\\\\")[4]\n",
    "img = cv2.imread(img_path)\n",
    "cv2.imwrite(\".\\input_f.jpg\",img)\n",
    "\n",
    "# original img = cv2.resize(img, None, fx=0.4, fy=0.4)\n",
    "img = cv2.resize(img, None, fx=0.9, fy=0.9)\n",
    "height, width, channels = img.shape\n",
    "\n",
    "# Detecting objects\n",
    "blob = cv2.dnn.blobFromImage(img, 0.00392, (416, 416), (0, 0, 0), True, crop=False)\n",
    "\n",
    "net.setInput(blob)\n",
    "outs = net.forward(output_layers)\n",
    "\n",
    "# Showing informations on the screen\n",
    "class_ids = []\n",
    "confidences = []\n",
    "boxes = []\n",
    "for out in outs:\n",
    "    for detection in out:\n",
    "        scores = detection[5:]\n",
    "        class_id = np.argmax(scores)\n",
    "        confidence = scores[class_id]\n",
    "        # orignal if confidence > 0.5:\n",
    "        if confidence > 0.6:\n",
    "            # Object detected\n",
    "            center_x = int(detection[0] * width)\n",
    "            center_y = int(detection[1] * height)\n",
    "            w = int(detection[2] * width)\n",
    "            h = int(detection[3] * height)\n",
    "\n",
    "            # Rectangle coordinates\n",
    "            x = int(center_x - w / 2)\n",
    "            y = int(center_y - h / 2)\n",
    "\n",
    "            boxes.append([x, y, w, h])\n",
    "            confidences.append(float(confidence))\n",
    "            class_ids.append(class_id)\n",
    "\n",
    "\n",
    "indexes = cv2.dnn.NMSBoxes(boxes, confidences, 0.6, 0.4)\n",
    "# if len(indexes)==0:\n",
    "#     cv2.imwrite(nowatermarkimages+final_image_name,img)\n",
    "#     print(f\"{nowatermarkimages+final_image_name}------ NO WATERMARK\")\n",
    "# else:\n",
    "#     cv2.imwrite(watermarkimages+final_image_name,img)\n",
    "#     print(f\"{nowatermarkimages+final_image_name}------ WATERMARK\")\n",
    "count=0\n",
    "region_json={}\n",
    "font = cv2.FONT_HERSHEY_PLAIN\n",
    "for i in range(len(boxes)):\n",
    "    if i in indexes:\n",
    "        x, y, w, h = boxes[i]\n",
    "        region_json[i]=[x,y,w,h]\n",
    "        label = str(classes[class_ids[i]])\n",
    "        color = colors[class_ids[i]]\n",
    "        cv2.rectangle(img, (x, y), (x + w, y + h), (0,0,255), 4)\n",
    "        count=count+1\n",
    "\n",
    "        #cv2.putText(img, str(float(confidences[0])), (x, y + 30), font, 3, color, 2)\n",
    "cv2.imwrite(f\".\\output_f.jpg\",img)\n",
    "img = cv2.resize(img, (900, 600))\n",
    "cv2.imshow(\"Image\", img)\n",
    "cv2.waitKey(0)\n",
    "cv2.destroyAllWindows()\n",
    "\n",
    "cv2.destroyAllWindows()    \n",
    "print(\"---------------------Region points--------------------\")\n",
    "print(region_json)"
   ]
  },
  {
   "cell_type": "code",
   "execution_count": 5,
   "metadata": {},
   "outputs": [],
   "source": [
    "#THANK YOU!!!! \n"
   ]
  }
 ],
 "metadata": {
  "kernelspec": {
   "display_name": "Python 3",
   "language": "python",
   "name": "python3"
  },
  "language_info": {
   "codemirror_mode": {
    "name": "ipython",
    "version": 3
   },
   "file_extension": ".py",
   "mimetype": "text/x-python",
   "name": "python",
   "nbconvert_exporter": "python",
   "pygments_lexer": "ipython3",
   "version": "3.6.10"
  }
 },
 "nbformat": 4,
 "nbformat_minor": 4
}
